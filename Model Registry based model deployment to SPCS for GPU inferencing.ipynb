{
 "metadata": {
  "kernelspec": {
   "display_name": "Streamlit Notebook",
   "name": "streamlit"
  },
  "lastEditStatus": {
   "notebookId": "j5stsbqudu3qsjkj52oe",
   "authorId": "233194668061",
   "authorName": "PLAKHANPAL",
   "authorEmail": "Puneet.Lakhanpal@Snowflake.com",
   "sessionId": "597a4c88-2c37-4130-ad25-1d92e78ff2fa",
   "lastEditTime": 1742263397815
  }
 },
 "nbformat_minor": 5,
 "nbformat": 4,
 "cells": [
  {
   "cell_type": "markdown",
   "id": "8e4e5a36-702e-48bf-adde-e006223718ce",
   "metadata": {
    "name": "intro",
    "collapsed": false
   },
   "source": "### Embedding calculation using Model Registry deployment to SPCS"
  },
  {
   "cell_type": "code",
   "id": "ae274aa3-2e02-463a-98d5-bdb9f1ee9604",
   "metadata": {
    "language": "python",
    "name": "install_sentence_transformers",
    "codeCollapsed": false
   },
   "outputs": [],
   "source": "!pip install sentence_transformers snowflake-ml-python==1.7.5",
   "execution_count": null
  },
  {
   "cell_type": "code",
   "id": "669f2dc1-ffe3-42b1-ae83-794038d52144",
   "metadata": {
    "language": "python",
    "name": "see_packages"
   },
   "outputs": [],
   "source": "!pip list",
   "execution_count": null
  },
  {
   "cell_type": "code",
   "id": "34fbc2b8-588c-40fd-9cb7-087f6b6f2f1b",
   "metadata": {
    "language": "python",
    "name": "import_libs",
    "codeCollapsed": false
   },
   "outputs": [],
   "source": "from snowflake.ml.registry import registry\nfrom sentence_transformers import SentenceTransformer\nfrom snowflake.snowpark.context import get_active_session",
   "execution_count": null
  },
  {
   "cell_type": "code",
   "id": "3775908f-ca36-4846-8f38-5adca39217f2",
   "metadata": {
    "language": "python",
    "name": "start_session",
    "codeCollapsed": false
   },
   "source": "session = get_active_session()\nreg = registry.Registry(session=session)",
   "execution_count": null,
   "outputs": []
  },
  {
   "cell_type": "code",
   "id": "e3e5ab93-42f9-41fe-8ddf-7bf7b1ef0164",
   "metadata": {
    "language": "python",
    "name": "define_params",
    "codeCollapsed": false
   },
   "outputs": [],
   "source": "model_name = \"sentence_transformer_minilm\"\nimage_repo_name = \"embedding_images\"\ncp_name = \"kipi_embedding_gpu_nv_s\"\nnum_spcs_nodes = \"4\"\nspcs_instance_family = \"GPU_NV_S\"\nservice_name = \"kipi_embedding_service\"\n\ncurrent_database = session.get_current_database().replace('\"', '')\ncurrent_schema = session.get_current_schema().replace('\"', '')\nextended_image_repo_name = f\"{current_database}.{current_schema}.{image_repo_name}\"\nextended_service_name = f'{current_database}.{current_schema}.{service_name}'",
   "execution_count": null
  },
  {
   "cell_type": "code",
   "id": "8d50cbf4-0c8d-4950-86cb-114990437ac9",
   "metadata": {
    "language": "python",
    "name": "download_embedding_model",
    "codeCollapsed": false
   },
   "source": "# Take an example sentence transformer from HF\nembed_model = SentenceTransformer('sentence-transformers/all-MiniLM-L6-v2')",
   "execution_count": null,
   "outputs": []
  },
  {
   "cell_type": "code",
   "id": "c695373e-ac74-4b62-a1f1-08206cbd5c81",
   "metadata": {
    "language": "python",
    "name": "create_sample_data",
    "codeCollapsed": false
   },
   "source": "# Have some sample input data\ninput_data = [\n    \"This is the first sentence.\",\n    \"Here's another sentence for testing.\",\n    \"The quick brown fox jumps over the lazy dog.\",\n    \"I love coding and programming.\",\n    \"Machine learning is an exciting field.\",\n    \"Python is a popular programming language.\",\n    \"I enjoy working with data.\",\n    \"Deep learning models are powerful.\",\n    \"Natural language processing is fascinating.\",\n    \"I want to improve my NLP skills.\",\n]",
   "execution_count": null,
   "outputs": []
  },
  {
   "cell_type": "code",
   "id": "9f4d0eab-77f8-4f66-a571-26715e35c14f",
   "metadata": {
    "language": "python",
    "name": "test_embeddings",
    "codeCollapsed": false
   },
   "outputs": [],
   "source": "embeddings = embed_model.encode(input_data)\nprint(embeddings)",
   "execution_count": null
  },
  {
   "cell_type": "code",
   "id": "3e5fba35-2b27-4107-bea3-dffaa62759c0",
   "metadata": {
    "language": "python",
    "name": "log_model_to_registry",
    "codeCollapsed": false
   },
   "outputs": [],
   "source": "_ = reg.log_model(\n    embed_model,\n    model_name=model_name,\n    sample_input_data=input_data,\n    pip_requirements=[\"sentence-transformers\", \"torch\", \"transformers\"]\n)",
   "execution_count": null
  },
  {
   "cell_type": "code",
   "id": "eb05c1f7-7ff2-4dce-ab14-060147ac8afb",
   "metadata": {
    "language": "python",
    "name": "see_all_model_versions",
    "codeCollapsed": false
   },
   "outputs": [],
   "source": "m = reg.get_model(model_name)\nversion_df = m.show_versions()\nversion_df.head(100)",
   "execution_count": null
  },
  {
   "cell_type": "code",
   "id": "406ee8d4-20ef-4b2f-8583-83f6005e394e",
   "metadata": {
    "language": "python",
    "name": "get_latest_model_version"
   },
   "outputs": [],
   "source": "last_version_name = version_df['name'].iloc[-1]\npip_model = m.version(last_version_name)\npip_model",
   "execution_count": null
  },
  {
   "cell_type": "code",
   "id": "16d25a0a-e8d1-4749-a11d-dd1dbaf41abf",
   "metadata": {
    "language": "python",
    "name": "create_compute_pool",
    "codeCollapsed": false
   },
   "outputs": [],
   "source": "session.sql(f\"alter compute pool if exists {cp_name} stop all\").collect()\nsession.sql(f\"drop compute pool if exists {cp_name}\").collect()\nsession.sql(f\"create compute pool {cp_name} min_nodes={num_spcs_nodes} max_nodes={num_spcs_nodes} instance_family={spcs_instance_family} auto_resume=True auto_suspend_secs=300\").collect()\nsession.sql(f\"describe compute pool {cp_name}\").show()",
   "execution_count": null
  },
  {
   "cell_type": "code",
   "id": "8ee2bbfd-1248-4ce0-aa52-1d79e3358c46",
   "metadata": {
    "language": "python",
    "name": "create_image_repository",
    "codeCollapsed": false
   },
   "outputs": [],
   "source": "session.sql(f\"create or replace image repository {extended_image_repo_name}\").collect()",
   "execution_count": null
  },
  {
   "cell_type": "code",
   "id": "a24713f4-5b9d-49a3-8a8d-60f88fd00648",
   "metadata": {
    "language": "python",
    "name": "create_spcs_service",
    "codeCollapsed": false
   },
   "outputs": [],
   "source": "pip_model.create_service(\n    service_name=extended_service_name,\n    service_compute_pool=cp_name,\n    image_repo=extended_image_repo_name,\n    ingress_enabled=True,\n    gpu_requests=\"1\",\n    max_instances=int(num_spcs_nodes),\n    build_external_access_integration=\"ALLOW_ALL_INTEGRATION\"\n)",
   "execution_count": null
  },
  {
   "cell_type": "code",
   "id": "2f5e4c75-3974-420c-8b8c-0b29e613bfb9",
   "metadata": {
    "language": "python",
    "name": "see_running_services",
    "codeCollapsed": false
   },
   "outputs": [],
   "source": "# See all services running a model\npip_model.list_services()",
   "execution_count": null
  },
  {
   "cell_type": "code",
   "id": "43633a00-e2d0-4ee2-bd02-68e44dd93d0d",
   "metadata": {
    "language": "python",
    "name": "see_service_status",
    "codeCollapsed": false
   },
   "outputs": [],
   "source": "session.sql(f\"SELECT VALUE:status::VARCHAR as SERVICESTATUS, VALUE:message::VARCHAR as SERVICEMESSAGE FROM TABLE(FLATTEN(input => parse_json(system$get_service_status('{service_name}')), outer => true)) f\").show(100)",
   "execution_count": null
  },
  {
   "cell_type": "code",
   "id": "7f71b6a0-e5f3-49f5-81f2-28876e429787",
   "metadata": {
    "language": "python",
    "name": "batch_inferencing",
    "codeCollapsed": false
   },
   "outputs": [],
   "source": "# Run on SPCS\npip_model.run(input_data, function_name=\"encode\", service_name=service_name)",
   "execution_count": null
  },
  {
   "cell_type": "code",
   "id": "2ff4a957-aefa-4ae3-aaf6-efe8db9d504f",
   "metadata": {
    "language": "python",
    "name": "get_realtime_endpoint",
    "codeCollapsed": false
   },
   "outputs": [],
   "source": "session.sql(f\"show endpoints in service {service_name}\").collect()[0][\"ingress_url\"]",
   "execution_count": null
  },
  {
   "cell_type": "code",
   "id": "0f161408-a657-4c5d-b8b7-0dcb7bd861b1",
   "metadata": {
    "language": "python",
    "name": "see_functions_in_service",
    "codeCollapsed": false
   },
   "outputs": [],
   "source": "pip_model.show_functions()",
   "execution_count": null
  },
  {
   "cell_type": "code",
   "id": "9fb2feee-dd24-4601-9884-2ab7d120a519",
   "metadata": {
    "language": "python",
    "name": "get_input_columns_for_predict_function",
    "codeCollapsed": false
   },
   "outputs": [],
   "source": "feature_columns = [feature.name for feature in pip_model.show_functions()[0][\"signature\"].inputs]\nfeature_columns",
   "execution_count": null
  },
  {
   "cell_type": "code",
   "id": "c9e94f25-02dc-4280-8560-c764e5382f9c",
   "metadata": {
    "language": "python",
    "name": "prepare_data_for_online_inference",
    "codeCollapsed": false
   },
   "outputs": [],
   "source": "# Prepare data to be sent\ndata = {\n    'data': []\n}\nfor idx, x in enumerate(input_data):\n    data['data'].append([idx, x])\nprint(data)",
   "execution_count": null
  }
 ]
}